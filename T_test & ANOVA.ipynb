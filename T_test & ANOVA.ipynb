{
 "cells": [
  {
   "cell_type": "code",
   "execution_count": 1,
   "id": "07b9176a-46cd-4768-8ab9-022532128b16",
   "metadata": {},
   "outputs": [],
   "source": [
    "import pandas as pd"
   ]
  },
  {
   "cell_type": "code",
   "execution_count": 2,
   "id": "56fd2510-152a-4e37-9deb-8ef36c3cb303",
   "metadata": {},
   "outputs": [],
   "source": [
    "dataset=pd.read_csv(\"Placement_preprocessed.csv\")\n"
   ]
  },
  {
   "cell_type": "code",
   "execution_count": 3,
   "id": "bc52076e-0d7b-4456-be9c-262b811ab183",
   "metadata": {},
   "outputs": [
    {
     "data": {
      "text/html": [
       "<div>\n",
       "<style scoped>\n",
       "    .dataframe tbody tr th:only-of-type {\n",
       "        vertical-align: middle;\n",
       "    }\n",
       "\n",
       "    .dataframe tbody tr th {\n",
       "        vertical-align: top;\n",
       "    }\n",
       "\n",
       "    .dataframe thead th {\n",
       "        text-align: right;\n",
       "    }\n",
       "</style>\n",
       "<table border=\"1\" class=\"dataframe\">\n",
       "  <thead>\n",
       "    <tr style=\"text-align: right;\">\n",
       "      <th></th>\n",
       "      <th>gender</th>\n",
       "      <th>ssc_b</th>\n",
       "      <th>hsc_b</th>\n",
       "      <th>hsc_s</th>\n",
       "      <th>degree_t</th>\n",
       "      <th>workex</th>\n",
       "      <th>specialisation</th>\n",
       "      <th>status</th>\n",
       "      <th>sl_no</th>\n",
       "      <th>ssc_p</th>\n",
       "      <th>hsc_p</th>\n",
       "      <th>degree_p</th>\n",
       "      <th>etest_p</th>\n",
       "      <th>mba_p</th>\n",
       "      <th>salary</th>\n",
       "    </tr>\n",
       "  </thead>\n",
       "  <tbody>\n",
       "    <tr>\n",
       "      <th>0</th>\n",
       "      <td>M</td>\n",
       "      <td>Others</td>\n",
       "      <td>Others</td>\n",
       "      <td>Commerce</td>\n",
       "      <td>Sci&amp;Tech</td>\n",
       "      <td>No</td>\n",
       "      <td>Mkt&amp;HR</td>\n",
       "      <td>Placed</td>\n",
       "      <td>1.0</td>\n",
       "      <td>67.00</td>\n",
       "      <td>91.00</td>\n",
       "      <td>58.00</td>\n",
       "      <td>55.0</td>\n",
       "      <td>58.80</td>\n",
       "      <td>270000.0</td>\n",
       "    </tr>\n",
       "    <tr>\n",
       "      <th>1</th>\n",
       "      <td>M</td>\n",
       "      <td>Central</td>\n",
       "      <td>Others</td>\n",
       "      <td>Science</td>\n",
       "      <td>Sci&amp;Tech</td>\n",
       "      <td>Yes</td>\n",
       "      <td>Mkt&amp;Fin</td>\n",
       "      <td>Placed</td>\n",
       "      <td>2.0</td>\n",
       "      <td>79.33</td>\n",
       "      <td>78.33</td>\n",
       "      <td>77.48</td>\n",
       "      <td>86.5</td>\n",
       "      <td>66.28</td>\n",
       "      <td>200000.0</td>\n",
       "    </tr>\n",
       "    <tr>\n",
       "      <th>2</th>\n",
       "      <td>M</td>\n",
       "      <td>Central</td>\n",
       "      <td>Central</td>\n",
       "      <td>Arts</td>\n",
       "      <td>Comm&amp;Mgmt</td>\n",
       "      <td>No</td>\n",
       "      <td>Mkt&amp;Fin</td>\n",
       "      <td>Placed</td>\n",
       "      <td>3.0</td>\n",
       "      <td>65.00</td>\n",
       "      <td>68.00</td>\n",
       "      <td>64.00</td>\n",
       "      <td>75.0</td>\n",
       "      <td>57.80</td>\n",
       "      <td>250000.0</td>\n",
       "    </tr>\n",
       "    <tr>\n",
       "      <th>3</th>\n",
       "      <td>M</td>\n",
       "      <td>Central</td>\n",
       "      <td>Central</td>\n",
       "      <td>Science</td>\n",
       "      <td>Sci&amp;Tech</td>\n",
       "      <td>No</td>\n",
       "      <td>Mkt&amp;HR</td>\n",
       "      <td>Not Placed</td>\n",
       "      <td>4.0</td>\n",
       "      <td>56.00</td>\n",
       "      <td>52.00</td>\n",
       "      <td>52.00</td>\n",
       "      <td>66.0</td>\n",
       "      <td>59.43</td>\n",
       "      <td>0.0</td>\n",
       "    </tr>\n",
       "    <tr>\n",
       "      <th>4</th>\n",
       "      <td>M</td>\n",
       "      <td>Central</td>\n",
       "      <td>Central</td>\n",
       "      <td>Commerce</td>\n",
       "      <td>Comm&amp;Mgmt</td>\n",
       "      <td>No</td>\n",
       "      <td>Mkt&amp;Fin</td>\n",
       "      <td>Placed</td>\n",
       "      <td>5.0</td>\n",
       "      <td>85.80</td>\n",
       "      <td>73.60</td>\n",
       "      <td>73.30</td>\n",
       "      <td>96.8</td>\n",
       "      <td>55.50</td>\n",
       "      <td>425000.0</td>\n",
       "    </tr>\n",
       "    <tr>\n",
       "      <th>...</th>\n",
       "      <td>...</td>\n",
       "      <td>...</td>\n",
       "      <td>...</td>\n",
       "      <td>...</td>\n",
       "      <td>...</td>\n",
       "      <td>...</td>\n",
       "      <td>...</td>\n",
       "      <td>...</td>\n",
       "      <td>...</td>\n",
       "      <td>...</td>\n",
       "      <td>...</td>\n",
       "      <td>...</td>\n",
       "      <td>...</td>\n",
       "      <td>...</td>\n",
       "      <td>...</td>\n",
       "    </tr>\n",
       "    <tr>\n",
       "      <th>210</th>\n",
       "      <td>M</td>\n",
       "      <td>Others</td>\n",
       "      <td>Others</td>\n",
       "      <td>Commerce</td>\n",
       "      <td>Comm&amp;Mgmt</td>\n",
       "      <td>No</td>\n",
       "      <td>Mkt&amp;Fin</td>\n",
       "      <td>Placed</td>\n",
       "      <td>211.0</td>\n",
       "      <td>80.60</td>\n",
       "      <td>82.00</td>\n",
       "      <td>77.60</td>\n",
       "      <td>91.0</td>\n",
       "      <td>74.49</td>\n",
       "      <td>400000.0</td>\n",
       "    </tr>\n",
       "    <tr>\n",
       "      <th>211</th>\n",
       "      <td>M</td>\n",
       "      <td>Others</td>\n",
       "      <td>Others</td>\n",
       "      <td>Science</td>\n",
       "      <td>Sci&amp;Tech</td>\n",
       "      <td>No</td>\n",
       "      <td>Mkt&amp;Fin</td>\n",
       "      <td>Placed</td>\n",
       "      <td>212.0</td>\n",
       "      <td>58.00</td>\n",
       "      <td>60.00</td>\n",
       "      <td>72.00</td>\n",
       "      <td>74.0</td>\n",
       "      <td>53.62</td>\n",
       "      <td>275000.0</td>\n",
       "    </tr>\n",
       "    <tr>\n",
       "      <th>212</th>\n",
       "      <td>M</td>\n",
       "      <td>Others</td>\n",
       "      <td>Others</td>\n",
       "      <td>Commerce</td>\n",
       "      <td>Comm&amp;Mgmt</td>\n",
       "      <td>Yes</td>\n",
       "      <td>Mkt&amp;Fin</td>\n",
       "      <td>Placed</td>\n",
       "      <td>213.0</td>\n",
       "      <td>67.00</td>\n",
       "      <td>67.00</td>\n",
       "      <td>73.00</td>\n",
       "      <td>59.0</td>\n",
       "      <td>69.72</td>\n",
       "      <td>295000.0</td>\n",
       "    </tr>\n",
       "    <tr>\n",
       "      <th>213</th>\n",
       "      <td>F</td>\n",
       "      <td>Others</td>\n",
       "      <td>Others</td>\n",
       "      <td>Commerce</td>\n",
       "      <td>Comm&amp;Mgmt</td>\n",
       "      <td>No</td>\n",
       "      <td>Mkt&amp;HR</td>\n",
       "      <td>Placed</td>\n",
       "      <td>214.0</td>\n",
       "      <td>74.00</td>\n",
       "      <td>66.00</td>\n",
       "      <td>58.00</td>\n",
       "      <td>70.0</td>\n",
       "      <td>60.23</td>\n",
       "      <td>204000.0</td>\n",
       "    </tr>\n",
       "    <tr>\n",
       "      <th>214</th>\n",
       "      <td>M</td>\n",
       "      <td>Central</td>\n",
       "      <td>Others</td>\n",
       "      <td>Science</td>\n",
       "      <td>Comm&amp;Mgmt</td>\n",
       "      <td>No</td>\n",
       "      <td>Mkt&amp;HR</td>\n",
       "      <td>Not Placed</td>\n",
       "      <td>215.0</td>\n",
       "      <td>62.00</td>\n",
       "      <td>58.00</td>\n",
       "      <td>53.00</td>\n",
       "      <td>89.0</td>\n",
       "      <td>60.22</td>\n",
       "      <td>0.0</td>\n",
       "    </tr>\n",
       "  </tbody>\n",
       "</table>\n",
       "<p>215 rows × 15 columns</p>\n",
       "</div>"
      ],
      "text/plain": [
       "    gender    ssc_b    hsc_b     hsc_s   degree_t workex specialisation  \\\n",
       "0        M   Others   Others  Commerce   Sci&Tech     No         Mkt&HR   \n",
       "1        M  Central   Others   Science   Sci&Tech    Yes        Mkt&Fin   \n",
       "2        M  Central  Central      Arts  Comm&Mgmt     No        Mkt&Fin   \n",
       "3        M  Central  Central   Science   Sci&Tech     No         Mkt&HR   \n",
       "4        M  Central  Central  Commerce  Comm&Mgmt     No        Mkt&Fin   \n",
       "..     ...      ...      ...       ...        ...    ...            ...   \n",
       "210      M   Others   Others  Commerce  Comm&Mgmt     No        Mkt&Fin   \n",
       "211      M   Others   Others   Science   Sci&Tech     No        Mkt&Fin   \n",
       "212      M   Others   Others  Commerce  Comm&Mgmt    Yes        Mkt&Fin   \n",
       "213      F   Others   Others  Commerce  Comm&Mgmt     No         Mkt&HR   \n",
       "214      M  Central   Others   Science  Comm&Mgmt     No         Mkt&HR   \n",
       "\n",
       "         status  sl_no  ssc_p  hsc_p  degree_p  etest_p  mba_p    salary  \n",
       "0        Placed    1.0  67.00  91.00     58.00     55.0  58.80  270000.0  \n",
       "1        Placed    2.0  79.33  78.33     77.48     86.5  66.28  200000.0  \n",
       "2        Placed    3.0  65.00  68.00     64.00     75.0  57.80  250000.0  \n",
       "3    Not Placed    4.0  56.00  52.00     52.00     66.0  59.43       0.0  \n",
       "4        Placed    5.0  85.80  73.60     73.30     96.8  55.50  425000.0  \n",
       "..          ...    ...    ...    ...       ...      ...    ...       ...  \n",
       "210      Placed  211.0  80.60  82.00     77.60     91.0  74.49  400000.0  \n",
       "211      Placed  212.0  58.00  60.00     72.00     74.0  53.62  275000.0  \n",
       "212      Placed  213.0  67.00  67.00     73.00     59.0  69.72  295000.0  \n",
       "213      Placed  214.0  74.00  66.00     58.00     70.0  60.23  204000.0  \n",
       "214  Not Placed  215.0  62.00  58.00     53.00     89.0  60.22       0.0  \n",
       "\n",
       "[215 rows x 15 columns]"
      ]
     },
     "execution_count": 3,
     "metadata": {},
     "output_type": "execute_result"
    }
   ],
   "source": [
    "dataset"
   ]
  },
  {
   "cell_type": "markdown",
   "id": "654e3c77-69a8-42ad-968c-653797a51eaf",
   "metadata": {},
   "source": [
    "Independent t-test (Unpaired T-test)\n",
    "Different groups same condition"
   ]
  },
  {
   "cell_type": "code",
   "execution_count": 4,
   "id": "77d77ff0-d110-4b18-a95b-01a0b1017eb2",
   "metadata": {},
   "outputs": [
    {
     "data": {
      "text/plain": [
       "TtestResult(statistic=-0.1684880697892395, pvalue=0.8663592108619098, df=213.0)"
      ]
     },
     "execution_count": 4,
     "metadata": {},
     "output_type": "execute_result"
    }
   ],
   "source": [
    "from scipy.stats import ttest_ind\n",
    "central=dataset[dataset['hsc_b']=='Central']['salary']\n",
    "others=dataset[dataset['hsc_b']=='Others']['salary']\n",
    "ttest_ind(central,others)\n"
   ]
  },
  {
   "cell_type": "markdown",
   "id": "77bce877-4f58-492c-9838-c4b313099465",
   "metadata": {},
   "source": [
    "pvalue = 86% indicates large difference between the groups. Hence the result is not statiscally significant."
   ]
  },
  {
   "cell_type": "markdown",
   "id": "79f8babb-78e5-4e83-8311-e5390aa197a8",
   "metadata": {},
   "source": [
    "Dependent T-test(Paired T-test)\n",
    "Same group different condition"
   ]
  },
  {
   "cell_type": "code",
   "execution_count": 5,
   "id": "0f6a8fa6-a07a-4418-a019-b69323d52c4f",
   "metadata": {},
   "outputs": [
    {
     "data": {
      "text/plain": [
       "TtestResult(statistic=-7.868552092606871, pvalue=2.462926468454984e-12, df=112)"
      ]
     },
     "execution_count": 5,
     "metadata": {},
     "output_type": "execute_result"
    }
   ],
   "source": [
    "from scipy.stats import ttest_rel\n",
    "mba=dataset[dataset['hsc_s']=='Commerce']['mba_p']\n",
    "etest=dataset[dataset['hsc_s']=='Commerce']['etest_p']\n",
    "ttest_rel(mba,etest)"
   ]
  },
  {
   "cell_type": "markdown",
   "id": "948f5572-9919-49f7-9668-1e7db32f0e2f",
   "metadata": {},
   "source": [
    "pvalue=246% indicates large difference between the groups. Hence the result is not statiscally significant."
   ]
  },
  {
   "cell_type": "markdown",
   "id": "c9cae094-4575-4378-bf25-015faaf9ccb5",
   "metadata": {},
   "source": [
    "One Way ANOVA"
   ]
  },
  {
   "cell_type": "code",
   "execution_count": 6,
   "id": "70e976f1-aa00-4b41-9019-901d014dcfef",
   "metadata": {},
   "outputs": [
    {
     "data": {
      "text/plain": [
       "F_onewayResult(statistic=0.6719700864663097, pvalue=0.5110602818995302)"
      ]
     },
     "execution_count": 6,
     "metadata": {},
     "output_type": "execute_result"
    }
   ],
   "source": [
    "import scipy.stats as stats\n",
    "stats.f_oneway(dataset['ssc_p'],dataset['hsc_p'],dataset['degree_p'])"
   ]
  },
  {
   "cell_type": "markdown",
   "id": "5e5cdec6-10f6-41b1-9b3b-f9ba46577986",
   "metadata": {},
   "source": [
    "pValue is greater than 0.05, hence the result is not statistically significant. In this case, we would accept the Null hypothesis."
   ]
  },
  {
   "cell_type": "markdown",
   "id": "e9201b87-83ee-4ba9-9367-81f6d487ca04",
   "metadata": {},
   "source": [
    "Two way ANOVA"
   ]
  },
  {
   "cell_type": "code",
   "execution_count": 7,
   "id": "31d5554f-79c5-4a38-918d-f526231bee14",
   "metadata": {},
   "outputs": [
    {
     "data": {
      "text/html": [
       "<div>\n",
       "<style scoped>\n",
       "    .dataframe tbody tr th:only-of-type {\n",
       "        vertical-align: middle;\n",
       "    }\n",
       "\n",
       "    .dataframe tbody tr th {\n",
       "        vertical-align: top;\n",
       "    }\n",
       "\n",
       "    .dataframe thead th {\n",
       "        text-align: right;\n",
       "    }\n",
       "</style>\n",
       "<table border=\"1\" class=\"dataframe\">\n",
       "  <thead>\n",
       "    <tr style=\"text-align: right;\">\n",
       "      <th></th>\n",
       "      <th>df</th>\n",
       "      <th>sum_sq</th>\n",
       "      <th>mean_sq</th>\n",
       "      <th>F</th>\n",
       "      <th>PR(&gt;F)</th>\n",
       "    </tr>\n",
       "  </thead>\n",
       "  <tbody>\n",
       "    <tr>\n",
       "      <th>etest_p</th>\n",
       "      <td>1.0</td>\n",
       "      <td>1.792564e+11</td>\n",
       "      <td>1.792564e+11</td>\n",
       "      <td>7.807616</td>\n",
       "      <td>0.005682</td>\n",
       "    </tr>\n",
       "    <tr>\n",
       "      <th>mba_p</th>\n",
       "      <td>1.0</td>\n",
       "      <td>5.280894e+10</td>\n",
       "      <td>5.280894e+10</td>\n",
       "      <td>2.300124</td>\n",
       "      <td>0.130860</td>\n",
       "    </tr>\n",
       "    <tr>\n",
       "      <th>etest_p:mba_p</th>\n",
       "      <td>1.0</td>\n",
       "      <td>5.037634e+10</td>\n",
       "      <td>5.037634e+10</td>\n",
       "      <td>2.194171</td>\n",
       "      <td>0.140026</td>\n",
       "    </tr>\n",
       "    <tr>\n",
       "      <th>Residual</th>\n",
       "      <td>211.0</td>\n",
       "      <td>4.844385e+12</td>\n",
       "      <td>2.295917e+10</td>\n",
       "      <td>NaN</td>\n",
       "      <td>NaN</td>\n",
       "    </tr>\n",
       "  </tbody>\n",
       "</table>\n",
       "</div>"
      ],
      "text/plain": [
       "                  df        sum_sq       mean_sq         F    PR(>F)\n",
       "etest_p          1.0  1.792564e+11  1.792564e+11  7.807616  0.005682\n",
       "mba_p            1.0  5.280894e+10  5.280894e+10  2.300124  0.130860\n",
       "etest_p:mba_p    1.0  5.037634e+10  5.037634e+10  2.194171  0.140026\n",
       "Residual       211.0  4.844385e+12  2.295917e+10       NaN       NaN"
      ]
     },
     "execution_count": 7,
     "metadata": {},
     "output_type": "execute_result"
    }
   ],
   "source": [
    "import statsmodels.api as sm\n",
    "from statsmodels.formula.api import ols\n",
    "model = ols('salary ~ etest_p*mba_p',data=dataset).fit()\n",
    "sm.stats.anova_lm(model,typ=1)"
   ]
  },
  {
   "cell_type": "markdown",
   "id": "0eb259e7-d3f7-4b20-8183-92a41d42e3e4",
   "metadata": {},
   "source": [
    "etest_p pValue is less than 0.05 which means the result does possess a statistically significant effect on salary.\n",
    "mba_p pValue is greater than 0.05 which means the result does not possess a statistically significant effect on salary.\n",
    "pValue for the interaction effect is greater than 0.05 which means there is no significant interaction between etest_p and mba_p.\n"
   ]
  }
 ],
 "metadata": {
  "kernelspec": {
   "display_name": "Python 3 (ipykernel)",
   "language": "python",
   "name": "python3"
  },
  "language_info": {
   "codemirror_mode": {
    "name": "ipython",
    "version": 3
   },
   "file_extension": ".py",
   "mimetype": "text/x-python",
   "name": "python",
   "nbconvert_exporter": "python",
   "pygments_lexer": "ipython3",
   "version": "3.12.7"
  }
 },
 "nbformat": 4,
 "nbformat_minor": 5
}
