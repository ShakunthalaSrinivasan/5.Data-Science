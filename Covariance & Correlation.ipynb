{
 "cells": [
  {
   "cell_type": "code",
   "execution_count": 1,
   "id": "80b864aa-b96d-44ab-9f73-7654814dcc2e",
   "metadata": {},
   "outputs": [],
   "source": [
    "import pandas as pd"
   ]
  },
  {
   "cell_type": "code",
   "execution_count": 2,
   "id": "1075afa4-8fe0-4b96-8d05-201c14bd03b7",
   "metadata": {},
   "outputs": [],
   "source": [
    "dataset=pd.read_csv(\"Placement_preprocessed.csv\")"
   ]
  },
  {
   "cell_type": "code",
   "execution_count": 3,
   "id": "408d4068-35c3-4c73-8b35-e56bc1209df7",
   "metadata": {},
   "outputs": [
    {
     "data": {
      "text/plain": [
       "gender            0\n",
       "ssc_b             0\n",
       "hsc_b             0\n",
       "hsc_s             0\n",
       "degree_t          0\n",
       "workex            0\n",
       "specialisation    0\n",
       "status            0\n",
       "sl_no             0\n",
       "ssc_p             0\n",
       "hsc_p             0\n",
       "degree_p          0\n",
       "etest_p           0\n",
       "mba_p             0\n",
       "salary            0\n",
       "dtype: int64"
      ]
     },
     "execution_count": 3,
     "metadata": {},
     "output_type": "execute_result"
    }
   ],
   "source": [
    "dataset.isnull().sum()"
   ]
  },
  {
   "cell_type": "code",
   "execution_count": 4,
   "id": "0af630a1-ba33-4dab-8fb0-85eacbe79ded",
   "metadata": {},
   "outputs": [
    {
     "name": "stdout",
     "output_type": "stream",
     "text": [
      "<class 'pandas.core.frame.DataFrame'>\n",
      "RangeIndex: 215 entries, 0 to 214\n",
      "Data columns (total 15 columns):\n",
      " #   Column          Non-Null Count  Dtype  \n",
      "---  ------          --------------  -----  \n",
      " 0   gender          215 non-null    object \n",
      " 1   ssc_b           215 non-null    object \n",
      " 2   hsc_b           215 non-null    object \n",
      " 3   hsc_s           215 non-null    object \n",
      " 4   degree_t        215 non-null    object \n",
      " 5   workex          215 non-null    object \n",
      " 6   specialisation  215 non-null    object \n",
      " 7   status          215 non-null    object \n",
      " 8   sl_no           215 non-null    float64\n",
      " 9   ssc_p           215 non-null    float64\n",
      " 10  hsc_p           215 non-null    float64\n",
      " 11  degree_p        215 non-null    float64\n",
      " 12  etest_p         215 non-null    float64\n",
      " 13  mba_p           215 non-null    float64\n",
      " 14  salary          215 non-null    float64\n",
      "dtypes: float64(7), object(8)\n",
      "memory usage: 25.3+ KB\n"
     ]
    }
   ],
   "source": [
    "dataset.info()"
   ]
  },
  {
   "cell_type": "code",
   "execution_count": 5,
   "id": "08bee3fd-47be-41c8-b59e-c3ea4021e7e2",
   "metadata": {},
   "outputs": [],
   "source": [
    "dataset=dataset.drop('sl_no',axis=1)"
   ]
  },
  {
   "cell_type": "code",
   "execution_count": 6,
   "id": "b92bcc9d-a023-4b76-b6f5-829120e72b80",
   "metadata": {
    "scrolled": true
   },
   "outputs": [
    {
     "data": {
      "text/html": [
       "<div>\n",
       "<style scoped>\n",
       "    .dataframe tbody tr th:only-of-type {\n",
       "        vertical-align: middle;\n",
       "    }\n",
       "\n",
       "    .dataframe tbody tr th {\n",
       "        vertical-align: top;\n",
       "    }\n",
       "\n",
       "    .dataframe thead th {\n",
       "        text-align: right;\n",
       "    }\n",
       "</style>\n",
       "<table border=\"1\" class=\"dataframe\">\n",
       "  <thead>\n",
       "    <tr style=\"text-align: right;\">\n",
       "      <th></th>\n",
       "      <th>ssc_p</th>\n",
       "      <th>hsc_p</th>\n",
       "      <th>degree_p</th>\n",
       "      <th>etest_p</th>\n",
       "      <th>mba_p</th>\n",
       "      <th>salary</th>\n",
       "    </tr>\n",
       "  </thead>\n",
       "  <tbody>\n",
       "    <tr>\n",
       "      <th>ssc_p</th>\n",
       "      <td>117.228377</td>\n",
       "      <td>60.348373</td>\n",
       "      <td>42.897137</td>\n",
       "      <td>37.659225</td>\n",
       "      <td>24.535952</td>\n",
       "      <td>9.017549e+05</td>\n",
       "    </tr>\n",
       "    <tr>\n",
       "      <th>hsc_p</th>\n",
       "      <td>60.348373</td>\n",
       "      <td>118.755706</td>\n",
       "      <td>34.819820</td>\n",
       "      <td>35.461678</td>\n",
       "      <td>22.555846</td>\n",
       "      <td>7.633598e+05</td>\n",
       "    </tr>\n",
       "    <tr>\n",
       "      <th>degree_p</th>\n",
       "      <td>42.897137</td>\n",
       "      <td>34.819820</td>\n",
       "      <td>54.151103</td>\n",
       "      <td>21.929469</td>\n",
       "      <td>17.272020</td>\n",
       "      <td>4.651315e+05</td>\n",
       "    </tr>\n",
       "    <tr>\n",
       "      <th>etest_p</th>\n",
       "      <td>37.659225</td>\n",
       "      <td>35.461678</td>\n",
       "      <td>21.929469</td>\n",
       "      <td>176.251018</td>\n",
       "      <td>16.886973</td>\n",
       "      <td>3.842344e+05</td>\n",
       "    </tr>\n",
       "    <tr>\n",
       "      <th>mba_p</th>\n",
       "      <td>24.535952</td>\n",
       "      <td>22.555846</td>\n",
       "      <td>17.272020</td>\n",
       "      <td>16.886973</td>\n",
       "      <td>34.028376</td>\n",
       "      <td>1.262455e+05</td>\n",
       "    </tr>\n",
       "    <tr>\n",
       "      <th>salary</th>\n",
       "      <td>901754.893936</td>\n",
       "      <td>763359.777657</td>\n",
       "      <td>465131.504238</td>\n",
       "      <td>384234.419257</td>\n",
       "      <td>126245.485547</td>\n",
       "      <td>2.395714e+10</td>\n",
       "    </tr>\n",
       "  </tbody>\n",
       "</table>\n",
       "</div>"
      ],
      "text/plain": [
       "                  ssc_p          hsc_p       degree_p        etest_p  \\\n",
       "ssc_p        117.228377      60.348373      42.897137      37.659225   \n",
       "hsc_p         60.348373     118.755706      34.819820      35.461678   \n",
       "degree_p      42.897137      34.819820      54.151103      21.929469   \n",
       "etest_p       37.659225      35.461678      21.929469     176.251018   \n",
       "mba_p         24.535952      22.555846      17.272020      16.886973   \n",
       "salary    901754.893936  763359.777657  465131.504238  384234.419257   \n",
       "\n",
       "                  mba_p        salary  \n",
       "ssc_p         24.535952  9.017549e+05  \n",
       "hsc_p         22.555846  7.633598e+05  \n",
       "degree_p      17.272020  4.651315e+05  \n",
       "etest_p       16.886973  3.842344e+05  \n",
       "mba_p         34.028376  1.262455e+05  \n",
       "salary    126245.485547  2.395714e+10  "
      ]
     },
     "execution_count": 6,
     "metadata": {},
     "output_type": "execute_result"
    }
   ],
   "source": [
    "dataset.cov(numeric_only=True)"
   ]
  },
  {
   "cell_type": "markdown",
   "id": "dee7ed3e-51e7-4f6c-ac58-e1dc993fb959",
   "metadata": {},
   "source": [
    "1. The Covariance between the columns degree_p and etest_p is 21.929469 which is a positive value. In this case degree_p value is directly proportional to etest_p i.e. if one value increases the other will also increase.\n",
    "2. The Covariance between the columns etest_p and mba_p is 16.886973 which is a positive value. In this case etest_p value is directly proportional to mba_p i.e. if one value increases the other will also increase."
   ]
  },
  {
   "cell_type": "code",
   "execution_count": 7,
   "id": "4e666d3c-5df4-48a0-8303-1dec5dbd781d",
   "metadata": {},
   "outputs": [
    {
     "data": {
      "text/html": [
       "<div>\n",
       "<style scoped>\n",
       "    .dataframe tbody tr th:only-of-type {\n",
       "        vertical-align: middle;\n",
       "    }\n",
       "\n",
       "    .dataframe tbody tr th {\n",
       "        vertical-align: top;\n",
       "    }\n",
       "\n",
       "    .dataframe thead th {\n",
       "        text-align: right;\n",
       "    }\n",
       "</style>\n",
       "<table border=\"1\" class=\"dataframe\">\n",
       "  <thead>\n",
       "    <tr style=\"text-align: right;\">\n",
       "      <th></th>\n",
       "      <th>ssc_p</th>\n",
       "      <th>hsc_p</th>\n",
       "      <th>degree_p</th>\n",
       "      <th>etest_p</th>\n",
       "      <th>mba_p</th>\n",
       "      <th>salary</th>\n",
       "    </tr>\n",
       "  </thead>\n",
       "  <tbody>\n",
       "    <tr>\n",
       "      <th>ssc_p</th>\n",
       "      <td>1.000000</td>\n",
       "      <td>0.511472</td>\n",
       "      <td>0.538404</td>\n",
       "      <td>0.261993</td>\n",
       "      <td>0.388478</td>\n",
       "      <td>0.538090</td>\n",
       "    </tr>\n",
       "    <tr>\n",
       "      <th>hsc_p</th>\n",
       "      <td>0.511472</td>\n",
       "      <td>1.000000</td>\n",
       "      <td>0.434206</td>\n",
       "      <td>0.245113</td>\n",
       "      <td>0.354823</td>\n",
       "      <td>0.452569</td>\n",
       "    </tr>\n",
       "    <tr>\n",
       "      <th>degree_p</th>\n",
       "      <td>0.538404</td>\n",
       "      <td>0.434206</td>\n",
       "      <td>1.000000</td>\n",
       "      <td>0.224470</td>\n",
       "      <td>0.402364</td>\n",
       "      <td>0.408371</td>\n",
       "    </tr>\n",
       "    <tr>\n",
       "      <th>etest_p</th>\n",
       "      <td>0.261993</td>\n",
       "      <td>0.245113</td>\n",
       "      <td>0.224470</td>\n",
       "      <td>1.000000</td>\n",
       "      <td>0.218055</td>\n",
       "      <td>0.186988</td>\n",
       "    </tr>\n",
       "    <tr>\n",
       "      <th>mba_p</th>\n",
       "      <td>0.388478</td>\n",
       "      <td>0.354823</td>\n",
       "      <td>0.402364</td>\n",
       "      <td>0.218055</td>\n",
       "      <td>1.000000</td>\n",
       "      <td>0.139823</td>\n",
       "    </tr>\n",
       "    <tr>\n",
       "      <th>salary</th>\n",
       "      <td>0.538090</td>\n",
       "      <td>0.452569</td>\n",
       "      <td>0.408371</td>\n",
       "      <td>0.186988</td>\n",
       "      <td>0.139823</td>\n",
       "      <td>1.000000</td>\n",
       "    </tr>\n",
       "  </tbody>\n",
       "</table>\n",
       "</div>"
      ],
      "text/plain": [
       "             ssc_p     hsc_p  degree_p   etest_p     mba_p    salary\n",
       "ssc_p     1.000000  0.511472  0.538404  0.261993  0.388478  0.538090\n",
       "hsc_p     0.511472  1.000000  0.434206  0.245113  0.354823  0.452569\n",
       "degree_p  0.538404  0.434206  1.000000  0.224470  0.402364  0.408371\n",
       "etest_p   0.261993  0.245113  0.224470  1.000000  0.218055  0.186988\n",
       "mba_p     0.388478  0.354823  0.402364  0.218055  1.000000  0.139823\n",
       "salary    0.538090  0.452569  0.408371  0.186988  0.139823  1.000000"
      ]
     },
     "execution_count": 7,
     "metadata": {},
     "output_type": "execute_result"
    }
   ],
   "source": [
    "dataset.corr(numeric_only=True)\n"
   ]
  },
  {
   "cell_type": "markdown",
   "id": "2e915ac4-0ac5-435b-8aad-7aa20699ee5e",
   "metadata": {},
   "source": [
    "1. The correlation between the columns mba_p and salary is 0.139823 which is a positive value. Since the value is only 14% therefore both the columns are weakly correlated."
   ]
  }
 ],
 "metadata": {
  "kernelspec": {
   "display_name": "Python 3 (ipykernel)",
   "language": "python",
   "name": "python3"
  },
  "language_info": {
   "codemirror_mode": {
    "name": "ipython",
    "version": 3
   },
   "file_extension": ".py",
   "mimetype": "text/x-python",
   "name": "python",
   "nbconvert_exporter": "python",
   "pygments_lexer": "ipython3",
   "version": "3.12.7"
  }
 },
 "nbformat": 4,
 "nbformat_minor": 5
}
